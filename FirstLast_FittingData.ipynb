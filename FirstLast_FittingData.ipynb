{
 "cells": [
  {
   "cell_type": "markdown",
   "metadata": {
    "collapsed": false
   },
   "source": [
    "# First Last - Fitting Data"
   ]
  },
  {
   "cell_type": "code",
   "execution_count": 0,
   "metadata": {
    "collapsed": true
   },
   "outputs": [
   ],
   "source": [
    "%matplotlib inline\n",
    "import matplotlib.pyplot as plt\n",
    "\n",
    "import numpy as np\n",
    "import pandas as pd\n",
    "\n",
    "from scipy.optimize import curve_fit"
   ]
  },
  {
   "cell_type": "markdown",
   "metadata": {
    "collapsed": false
   },
   "source": [
    "# Power on the Moon\n",
    "\n",
    "<img src=\"images/ApolloRTG.jpg\" alt=\"Apollo_ALSEP_RTG\" style=\"width: 500px;\"/>\n",
    "\n",
    "The Apollo lunar mission deployed a series of experiments on the Moon, The experiment package\n",
    "was called the Apollo Lunar Surface Experiments Package (ALSEP). The ALSEP was powered by a radioisotope \n",
    "thermoelectric generator (RTG). \n",
    "\n",
    "An RTG is basically a fist-sized\n",
    "slug of Pu-238 wrapped in a material that generates electric power when heated. Since the RTG is powered\n",
    "by a radioisotope, the output power decreases over time as the radioisotope decays."
   ]
  },
  {
   "cell_type": "markdown",
   "metadata": {
    "collapsed": false
   },
   "source": [
    "## Read in the datafile\n",
    "\n",
    "The data file `/Data/Apollo_RTG.csv` contains the power output of the Apollo 12 RTG as a function of time.\n",
    "\n",
    "The data colunms are\n",
    "\n",
    "* [Day] - Days on the Moon\n",
    "* [Power] - RTG power output in Watts"
   ]
  },
  {
   "cell_type": "code",
   "execution_count": 0,
   "metadata": {
    "collapsed": true
   },
   "outputs": [
   ],
   "source": [
   ]
  },
  {
   "cell_type": "markdown",
   "metadata": {
    "collapsed": false
   },
   "source": [
    "## Can you charge your phone with the Apollo RTG?\n",
    "\n",
    "* Plot the data: Day vs. Power\n",
    "* Use the OO interface to matplotlib\n",
    "* Fit the function with a polynomial (degree >= 3)\n",
    "* Plot the fit with the data\n",
    "- Output size w:11in, h:8.5in\n",
    "- Make the plot look nice (including clear labels)"
   ]
  },
  {
   "cell_type": "code",
   "execution_count": 0,
   "metadata": {
    "collapsed": true
   },
   "outputs": [
   ],
   "source": [
   ]
  },
  {
   "cell_type": "markdown",
   "metadata": {
    "collapsed": false
   },
   "source": [
    "## What was the power output on Day 0?"
   ]
  },
  {
   "cell_type": "code",
   "execution_count": 0,
   "metadata": {
    "collapsed": true
   },
   "outputs": [
   ],
   "source": [
   ]
  },
  {
   "cell_type": "markdown",
   "metadata": {
    "collapsed": false
   },
   "source": [
    "## How many years after landing could you still power a 60 W lightbulb?"
   ]
  },
  {
   "cell_type": "code",
   "execution_count": 0,
   "metadata": {
    "collapsed": true
   },
   "outputs": [
   ],
   "source": [
   ]
  },
  {
   "cell_type": "markdown",
   "metadata": {
    "collapsed": false
   },
   "source": [
    "## How many years after landing could you still power a 5 W USB device?"
   ]
  },
  {
   "cell_type": "code",
   "execution_count": 0,
   "metadata": {
    "collapsed": true
   },
   "outputs": [
   ],
   "source": [
   ]
  },
  {
   "cell_type": "markdown",
   "metadata": {
    "collapsed": false
   },
   "source": [
    "## How many years after landing until the power output is 0 W?"
   ]
  },
  {
   "cell_type": "code",
   "execution_count": 0,
   "metadata": {
    "collapsed": true
   },
   "outputs": [
   ],
   "source": [
   ]
  },
  {
   "cell_type": "markdown",
   "metadata": {
    "collapsed": false
   },
   "source": [
    "---\n",
    "\n",
    "# Fitting data to a function\n",
    "\n",
    "* The datafile `./Data/FitMe.csv` contains two columns of data (x,y)\n",
    "* Use the OO interface to matplotlib\n",
    "* Plot the data x,y\n",
    "* Fit the function below to the data\n",
    "* Find the values of a,b,c that best fit the data\n",
    "- Output size w:11in, h:8.5in\n",
    "- Make the plot look nice (including clear labels)"
   ]
  },
  {
   "cell_type": "markdown",
   "metadata": {
    "collapsed": false
   },
   "source": [
    "$$\\Large f(x) = a \\sin(bx) \\ e^{-cx} $$"
   ]
  },
  {
   "cell_type": "code",
   "execution_count": 0,
   "metadata": {
    "collapsed": false
   },
   "outputs": [
   ],
   "source": [
   ]
  },
  {
   "cell_type": "markdown",
   "metadata": {
    "collapsed": false
   },
   "source": [
    "### Due Mon Nov 5 - 1 pm\n",
    "- `Make sure to change the filename to your name!`\n",
    "- `Make sure to change the Title to your name!`\n",
    "- `File -> Download as -> HTML (.html)`\n",
    "- `upload your .html and .ipynb file to the class Canvas page`"
   ]
  }
 ],
 "metadata": {
  "anaconda-cloud": {
  },
  "kernelspec": {
   "display_name": "Python 3 (Ubuntu Linux)",
   "language": "python",
   "name": "python3"
  },
  "language_info": {
   "codemirror_mode": {
    "name": "ipython",
    "version": 3
   },
   "file_extension": ".py",
   "mimetype": "text/x-python",
   "name": "python",
   "nbconvert_exporter": "python",
   "pygments_lexer": "ipython3",
   "version": "3.6.6"
  }
 },
 "nbformat": 4,
 "nbformat_minor": 0
}